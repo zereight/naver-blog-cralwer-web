{
 "cells": [
  {
   "cell_type": "code",
   "execution_count": 38,
   "metadata": {},
   "outputs": [],
   "source": [
    "import asyncio # 비동기처리를 위함\n",
    "from selenium import webdriver\n",
    "from selenium.webdriver.chrome.options import Options\n",
    "from selenium.webdriver.common.by import By"
   ]
  },
  {
   "cell_type": "code",
   "execution_count": 78,
   "metadata": {},
   "outputs": [],
   "source": [
    "def expand_shadow_element(element):\n",
    "    shadow_root = driver.execute_script('return arguments[0].shadowRoot', element)\n",
    "    return shadow_root"
   ]
  },
  {
   "cell_type": "code",
   "execution_count": 83,
   "metadata": {},
   "outputs": [],
   "source": [
    "# arr에는 shadow DOM 각각의 상위 태그 및 selector 정보를 순서대로 넣기\n",
    "# target에는 최종적으로 찾고자하는 selector 넣기\n",
    "def find_element_in_shadowDOMs(arr, target):\n",
    "    curr_root = driver\n",
    "    root, shadow_root = None, None\n",
    "    for info in arr:\n",
    "        root = curr_root.find_element_by_css_selector(info)\n",
    "        shadow_root = expand_shadow_element(root)\n",
    "        curr_root = shadow_root\n",
    "        print(curr_root)\n",
    "    \n",
    "    return curr_root.find_element_by_css_selector(target)"
   ]
  },
  {
   "cell_type": "code",
   "execution_count": 86,
   "metadata": {},
   "outputs": [],
   "source": [
    "# chrome://settings/content/javascript 페이지에서 사용할것.\n",
    "def toggleJavascriptAllow():\n",
    "    arr = [\"settings-ui\",\n",
    "       \"#container > settings-main\", \n",
    "       \"settings-basic-page\", \n",
    "       \"#basicPage > settings-section.expanded > settings-privacy-page\", \n",
    "       \"settings-subpage > category-default-setting\", \n",
    "       \"settings-toggle-button\"]\n",
    "    find_element_in_shadowDOMs(arr, \"#outerRow > #control\").click()"
   ]
  },
  {
   "cell_type": "code",
   "execution_count": 122,
   "metadata": {},
   "outputs": [],
   "source": [
    "# naver blog에서 1~10 페이지까지의 블로그 url 크롤링\n",
    "def getBlogsURL(driver, term):\n",
    "    pageIndexes = range(1, 92, 10) # 1~10페이지\n",
    "    blogs = []\n",
    "    for pageIndex in pageIndexes:\n",
    "        driver.get(F\"https://search.naver.com/search.naver?where=post&query={term}&start={pageIndex}\")\n",
    "        dirtyURLs = driver.find_elements_by_class_name(\"sh_blog_top > dl > .txt_block > .inline > .url\")\n",
    "        for url in dirtyURLs:\n",
    "            blogs.append( url.get_attribute(\"href\") )\n",
    "    return blogs\n",
    "        "
   ]
  },
  {
   "cell_type": "code",
   "execution_count": null,
   "metadata": {},
   "outputs": [],
   "source": [
    "chrome_options = Options()\n",
    "chrome_options.add_argument(\"--window-size=1920,1080\")\n",
    "\n",
    "driver = webdriver.Chrome(\"./chromedriver\", chrome_options=chrome_options)"
   ]
  },
  {
   "cell_type": "code",
   "execution_count": 124,
   "metadata": {},
   "outputs": [],
   "source": [
    "blogsURLs = list(set(getBlogsURL(driver, \"test\")))"
   ]
  },
  {
   "cell_type": "code",
   "execution_count": 125,
   "metadata": {},
   "outputs": [
    {
     "data": {
      "text/plain": [
       "['https://www.redstate.com/nick-arama/2020/09/28/trump-calls-for-a-drug-test-prior-to-the-first-debate-biden-teams-response-is-classic-deflection/',\n",
       " 'https://blog.naver.com/sciport2016?Redirect=Log&logNo=222076288151',\n",
       " 'https://blog.naver.com/mt_98?Redirect=Log&logNo=222066967220',\n",
       " 'https://blog.naver.com/12asap?Redirect=Log&logNo=222056269522',\n",
       " 'https://blog.naver.com/desireofage?Redirect=Log&logNo=222093793433',\n",
       " 'https://tiasilrans.blog.me/222038701622',\n",
       " 'https://blog.naver.com/yorob?Redirect=Log&logNo=222079160159',\n",
       " 'https://blog.naver.com/eunyo20?Redirect=Log&logNo=221997272748',\n",
       " 'https://blog.naver.com/zzamstop?Redirect=Log&logNo=222098822468',\n",
       " 'https://blog.naver.com/desireofage?Redirect=Log&logNo=222092473666']"
      ]
     },
     "execution_count": 125,
     "metadata": {},
     "output_type": "execute_result"
    }
   ],
   "source": [
    "blogsURLs[:10]"
   ]
  },
  {
   "cell_type": "code",
   "execution_count": null,
   "metadata": {},
   "outputs": [],
   "source": []
  }
 ],
 "metadata": {
  "kernelspec": {
   "display_name": "Python 3",
   "language": "python",
   "name": "python3"
  },
  "language_info": {
   "codemirror_mode": {
    "name": "ipython",
    "version": 3
   },
   "file_extension": ".py",
   "mimetype": "text/x-python",
   "name": "python",
   "nbconvert_exporter": "python",
   "pygments_lexer": "ipython3",
   "version": "3.8.3"
  }
 },
 "nbformat": 4,
 "nbformat_minor": 4
}
