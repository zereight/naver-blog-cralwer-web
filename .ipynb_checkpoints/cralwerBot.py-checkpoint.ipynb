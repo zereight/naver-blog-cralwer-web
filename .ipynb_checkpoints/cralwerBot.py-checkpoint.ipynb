{
 "cells": [
  {
   "cell_type": "code",
   "execution_count": 1,
   "metadata": {},
   "outputs": [],
   "source": [
    "import asyncio # 비동기처리를 위함\n",
    "from selenium import webdriver\n",
    "from selenium.webdriver.chrome.options import Options\n",
    "from selenium.webdriver.common.by import By\n",
    "from selenium.webdriver.support.ui import WebDriverWait\n",
    "from selenium.webdriver.support import expected_conditions as EC"
   ]
  },
  {
   "cell_type": "code",
   "execution_count": 2,
   "metadata": {},
   "outputs": [],
   "source": [
    "# shadowDOM 인 경우 활용할 수 있음\n",
    "# def expand_shadow_element(element):\n",
    "#     shadow_root = driver.execute_script('return arguments[0].shadowRoot', element)\n",
    "#     return shadow_root\n",
    "# # arr에는 shadow DOM 각각의 상위 태그 및 selector 정보를 순서대로 넣기\n",
    "# # target에는 최종적으로 찾고자하는 selector 넣기\n",
    "# def find_element_in_shadowDOMs(arr, target):\n",
    "#     curr_root = driver\n",
    "#     root, shadow_root = None, None\n",
    "#     for info in arr:\n",
    "#         root = curr_root.find_element_by_css_selector(info)\n",
    "#         shadow_root = expand_shadow_element(root)\n",
    "#         curr_root = shadow_root\n",
    "    \n",
    "#     return curr_root.find_element_by_css_selector(target)\n",
    "# # chrome://settings/content/javascript 페이지에서 사용할것.\n",
    "# def toggleJavascriptAllow():\n",
    "#     arr = [\"settings-ui\",\n",
    "#        \"#container > settings-main\", \n",
    "#        \"settings-basic-page\", \n",
    "#        \"#basicPage > settings-section.expanded > settings-privacy-page\", \n",
    "#        \"settings-subpage > category-default-setting\", \n",
    "#        \"settings-toggle-button\"]\n",
    "#     find_element_in_shadowDOMs(arr, \"#outerRow > #control\").click()"
   ]
  },
  {
   "cell_type": "code",
   "execution_count": 2,
   "metadata": {},
   "outputs": [],
   "source": [
    "# naver blog에서 1~10 페이지까지의 블로그 url 크롤링\n",
    "def getBlogsURL(driver, term):\n",
    "    pageIndexes = range(1, 92, 10) # 1~10페이지\n",
    "    blogs = []\n",
    "    for pageIndex in pageIndexes:\n",
    "        driver.get(F\"https://search.naver.com/search.naver?where=post&query={term}&start={pageIndex}\")\n",
    "        dirtyURLs = driver.find_elements_by_class_name(\"sh_blog_top > dl > .txt_block > .inline > .url\")\n",
    "        for url in dirtyURLs:\n",
    "            blogs.append( url.get_attribute(\"href\") )\n",
    "    return blogs\n",
    "        "
   ]
  },
  {
   "cell_type": "code",
   "execution_count": 4,
   "metadata": {},
   "outputs": [],
   "source": [
    "# 초, By.ID/By.Class등의 타입, 기준요소, \n",
    "# 기준요소가 로드될때까지 대기\n",
    "def waiting(driver, sec, _type ,elem):\n",
    "    try:\n",
    "        element = WebDriverWait(driver, sec).until(\n",
    "            EC.presence_of_element_located((_type, elem))\n",
    "        )\n",
    "    except:\n",
    "        pass"
   ]
  },
  {
   "cell_type": "code",
   "execution_count": 5,
   "metadata": {},
   "outputs": [
    {
     "name": "stderr",
     "output_type": "stream",
     "text": [
      "<ipython-input-5-d2c94f73e9d5>:4: DeprecationWarning: use options instead of chrome_options\n",
      "  driver = webdriver.Chrome(\"./chromedriver\", chrome_options=chrome_options)\n"
     ]
    }
   ],
   "source": [
    "chrome_options = Options()\n",
    "chrome_options.add_argument(\"--window-size=1920,1080\")\n",
    "\n",
    "driver = webdriver.Chrome(\"./chromedriver\", chrome_options=chrome_options)"
   ]
  },
  {
   "cell_type": "code",
   "execution_count": 6,
   "metadata": {},
   "outputs": [],
   "source": [
    "blogsURLs = list(set(getBlogsURL(driver, \"test\")))"
   ]
  },
  {
   "cell_type": "code",
   "execution_count": null,
   "metadata": {},
   "outputs": [
    {
     "name": "stderr",
     "output_type": "stream",
     "text": [
      "<ipython-input-9-33bb8f661dfb>:6: DeprecationWarning: use driver.switch_to.frame instead\n",
      "  driver.switch_to_frame(\"mainFrame\") # mainframe 내부의 #document로 이동\n"
     ]
    },
    {
     "name": "stdout",
     "output_type": "stream",
     "text": [
      "Message: mainFrame\n",
      "\n",
      "Message: mainFrame\n",
      "\n",
      "Message: mainFrame\n",
      "\n",
      "Message: mainFrame\n",
      "\n",
      "Message: mainFrame\n",
      "\n",
      "Message: mainFrame\n",
      "\n",
      "Message: mainFrame\n",
      "\n",
      "Message: mainFrame\n",
      "\n",
      "Message: mainFrame\n",
      "\n"
     ]
    }
   ],
   "source": [
    "posts = []\n",
    "for url in blogsURLs:\n",
    "    try:\n",
    "        driver.get(url)\n",
    "        waiting(driver, 3, By.ID, \"mainFrame\")\n",
    "        driver.switch_to_frame(\"mainFrame\") # mainframe 내부의 #document로 이동\n",
    "        post = driver.find_element_by_css_selector(\"#printPost1 > tbody > tr > td.bcc\").text\n",
    "        posts.append(post)\n",
    "    except Exception as e: # 네이버 블로그가 아니면 에러.\n",
    "        print(\"네이버 블로그가 아님\")\n",
    "        pass "
   ]
  },
  {
   "cell_type": "code",
   "execution_count": null,
   "metadata": {},
   "outputs": [],
   "source": [
    "posts[:10]"
   ]
  },
  {
   "cell_type": "code",
   "execution_count": 19,
   "metadata": {},
   "outputs": [
    {
     "data": {
      "text/plain": [
       "'https://blog.naver.com/desireofage?Redirect=Log&logNo=222092473666'"
      ]
     },
     "execution_count": 19,
     "metadata": {},
     "output_type": "execute_result"
    }
   ],
   "source": []
  },
  {
   "cell_type": "code",
   "execution_count": null,
   "metadata": {},
   "outputs": [],
   "source": []
  }
 ],
 "metadata": {
  "kernelspec": {
   "display_name": "Python 3",
   "language": "python",
   "name": "python3"
  },
  "language_info": {
   "codemirror_mode": {
    "name": "ipython",
    "version": 3
   },
   "file_extension": ".py",
   "mimetype": "text/x-python",
   "name": "python",
   "nbconvert_exporter": "python",
   "pygments_lexer": "ipython3",
   "version": "3.8.3"
  }
 },
 "nbformat": 4,
 "nbformat_minor": 4
}
