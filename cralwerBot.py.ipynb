{
 "cells": [
  {
   "cell_type": "code",
   "execution_count": 20,
   "metadata": {},
   "outputs": [],
   "source": [
    "import requests\n",
    "from bs4 import BeautifulSoup"
   ]
  },
  {
   "cell_type": "code",
   "execution_count": 112,
   "metadata": {},
   "outputs": [],
   "source": [
    "def getBlogURL(term):\n",
    "    blogs = [] # blog url를 저장할 list\n",
    "    pageIndex = range(1,101,10) # 시작할 페이지 인덱스 10p까지 조사\n",
    "\n",
    "    for page in pageIndex:\n",
    "        req = requests.get(F\"https://search.naver.com/search.naver?where=post&sm=tab_jum&query={term}&start={page}\")\n",
    "        html = req.text\n",
    "        soup = BeautifulSoup(html, \"html.parser\")\n",
    "\n",
    "        elems = soup.find_all(F\"a\", class_=\"sp_thmb thmb80\")\n",
    "\n",
    "        for e in elems:\n",
    "#             print(e[\"href\"])\n",
    "            blogs.append(e[\"href\"])\n",
    "    return blogs\n"
   ]
  },
  {
   "cell_type": "code",
   "execution_count": 113,
   "metadata": {},
   "outputs": [],
   "source": [
    "blogsURL = getBlogURL(\"단어\")"
   ]
  },
  {
   "cell_type": "code",
   "execution_count": 114,
   "metadata": {},
   "outputs": [],
   "source": [
    "def visit_and_cralwer(blogsURL):\n",
    "    for url in blogsURL:\n",
    "        req = requests.get(url)\n",
    "        html = req.text\n",
    "        soup = BeautifulSoup(html, \"html.parser\")\n",
    "        \n",
    "        print(soup)\n",
    "\n",
    "        break\n",
    "        "
   ]
  },
  {
   "cell_type": "code",
   "execution_count": 115,
   "metadata": {},
   "outputs": [
    {
     "name": "stdout",
     "output_type": "stream",
     "text": [
      "\n",
      "<!DOCTYPE html PUBLIC \"-//W3C//DTD XHTML 1.0 Transitional//EN\" \"http://www.w3.org/TR/xhtml1/DTD/xhtml1-transitional.dtd\">\n",
      "\n",
      "<html lang=\"ko\">\n",
      "<head>\n",
      "<meta content=\"no-cache\" http-equiv=\"Pragma\"/>\n",
      "<meta content=\"-1\" http-equiv=\"Expires\"/>\n",
      "<meta content=\"noindex,follow\" name=\"robots\"/>\n",
      "<meta content=\"always\" name=\"referrer\"/>\n",
      "<meta content=\"text/html;charset=utf-8\" http-equiv=\"content-type\"/>\n",
      "<meta content=\"IE=edge,chrome=1\" http-equiv=\"X-UA-Compatible\"/>\n",
      "<link href=\"/favicon.ico?3\" rel=\"shortcut icon\" type=\"image/x-icon\"/>\n",
      "<link href=\"https://rss.blog.naver.com/hyeseong8742.xml\" rel=\"alternate\" title=\"RSS feed for hyeseong8742 Blog\" type=\"application/rss+xml\"/>\n",
      "<link href=\"https://blog.naver.com/NBlogWlwLayout.nhn?blogId=hyeseong8742\" rel=\"wlwmanifest\" type=\"application/wlwmanifest+xml\"/>\n",
      "<title>평범한 20대 남자의 일기 : 네이버 블로그</title>\n",
      "</head>\n",
      "<script charset=\"UTF-8\" src=\"https://ssl.pstatic.net/t.static.blog/mylog/versioning/Frameset-657805386_https.js\" type=\"text/javascript\"></script>\n",
      "<script charset=\"UTF-8\" type=\"text/javascript\">\n",
      "var photoContent=\"\";\n",
      "var postContent=\"\";\n",
      "\n",
      "var videoId \t  = \"\";\n",
      "var thumbnail \t  = \"\";\n",
      "var inKey \t\t  = \"\";\n",
      "var movieFileSize = \"\";\n",
      "var playTime \t  = \"\";\n",
      "var screenSize \t  = \"\";\n",
      "\n",
      "var blogId = 'hyeseong8742';\n",
      "var blogURL = 'https://blog.naver.com';\n",
      "var eventCnt = '';\n",
      "\n",
      "var g_ShareObject = {};\n",
      "g_ShareObject.referer = \"\";\n",
      "\n",
      "\n",
      "jsMVC.setController(\"framesetTitleController\", FramesetTitleController);\n",
      "jsMVC.setController(\"framesetUrlController\", FramesetUrlController);\n",
      "jsMVC.setController(\"framesetMusicController\", FramesetMusicController);\n",
      "var oFramesetTitleController = jsMVC.getController(\"framesetTitleController\");\n",
      "var oFramesetUrlController = jsMVC.getController(\"framesetUrlController\");\n",
      "var oFramesetMusicController = jsMVC.getController(\"framesetMusicController\");\n",
      "var sTitle = document.title;\n",
      "\n",
      "</script>\n",
      "<style type=\"text/css\">\n",
      "    html{width:100%;height:100%;}\n",
      "    body{width:100%;height:100%;margin:0;padding:0;font-size:0;}\n",
      "    #mainFrame{width:100%;height:99.8%;margin:0;padding:0;border:0;}\n",
      "    #hiddenFrame{width:0;height:0;margin:0;padding:0;border:0;}\n",
      "</style>\n",
      "<body>\n",
      "<iframe allowfullscreen=\"\" id=\"mainFrame\" name=\"mainFrame\" onload=\"oFramesetTitleController.start(self.frames['mainFrame'], self, sTitle);oFramesetTitleController.onLoadFrame();oFramesetUrlController.start(self.frames['mainFrame']);oFramesetUrlController.onLoadFrame()\" scrolling=\"auto\" src=\"/PostView.nhn?blogId=hyeseong8742&amp;logNo=222012271950&amp;from=search&amp;redirect=Log&amp;widgetTypeCall=true&amp;directAccess=false\"></iframe>\n",
      "<iframe id=\"hiddenFrame\" name=\"hiddenFrame\" noresize=\"noresize\" scrolling=\"no\" src=\"/NBlogHidden.nhn?blogId=hyeseong8742&amp;musicYN=true\"></iframe>\n",
      "</body>\n",
      "</html>\n"
     ]
    }
   ],
   "source": [
    "visit_and_cralwer(blogsURL)"
   ]
  },
  {
   "cell_type": "code",
   "execution_count": null,
   "metadata": {},
   "outputs": [],
   "source": []
  }
 ],
 "metadata": {
  "kernelspec": {
   "display_name": "Python 3",
   "language": "python",
   "name": "python3"
  },
  "language_info": {
   "codemirror_mode": {
    "name": "ipython",
    "version": 3
   },
   "file_extension": ".py",
   "mimetype": "text/x-python",
   "name": "python",
   "nbconvert_exporter": "python",
   "pygments_lexer": "ipython3",
   "version": "3.8.3"
  }
 },
 "nbformat": 4,
 "nbformat_minor": 4
}
